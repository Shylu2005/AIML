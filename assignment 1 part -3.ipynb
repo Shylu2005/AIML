{
  "nbformat": 4,
  "nbformat_minor": 0,
  "metadata": {
    "colab": {
      "provenance": [],
      "authorship_tag": "ABX9TyMAG2AhXJ+oKp6qtXUcpmQK",
      "include_colab_link": true
    },
    "kernelspec": {
      "name": "python3",
      "display_name": "Python 3"
    },
    "language_info": {
      "name": "python"
    }
  },
  "cells": [
    {
      "cell_type": "markdown",
      "metadata": {
        "id": "view-in-github",
        "colab_type": "text"
      },
      "source": [
        "<a href=\"https://colab.research.google.com/github/Shylu2005/AIML/blob/main/assignment%201%20part%20-3.ipynb\" target=\"_parent\"><img src=\"https://colab.research.google.com/assets/colab-badge.svg\" alt=\"Open In Colab\"/></a>"
      ]
    },
    {
      "cell_type": "code",
      "execution_count": null,
      "metadata": {
        "id": "rsyooTshY1ut"
      },
      "outputs": [],
      "source": [
        "#Part 3\n",
        "import pandas as pd\n",
        "file_path_excel=\"https://drive.google.com/uc?export=download&id=1fy0FowFl7q_4Fr2RsOBA1rwtmPKaGSfy\"\n",
        "df = pd.read_excel(file_path_excel)\n",
        "print(df)\n",
        "file_path_csv=\"https://drive.google.com/uc?export=download&id=1ob8AQfHq6ABp-wgmYkQt2JdaMfNt7Y_9\"\n",
        "df = pd.read_csv(file_path_csv)\n",
        "print(df)\n",
        "file_path_tsv=\"https://drive.google.com/uc?export=download&id=1AqDhHFSp5H0Yz-vHcbvg0sSipQzU4yKz\"\n",
        "df = pd.read_csv(file_path_tsv, sep='\\t')\n",
        "print(df)"
      ]
    }
  ]
}