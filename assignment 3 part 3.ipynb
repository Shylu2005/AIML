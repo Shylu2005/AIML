{
  "nbformat": 4,
  "nbformat_minor": 0,
  "metadata": {
    "colab": {
      "provenance": [],
      "authorship_tag": "ABX9TyNei2TBmVwmZHeJT2mid1LI",
      "include_colab_link": true
    },
    "kernelspec": {
      "name": "python3",
      "display_name": "Python 3"
    },
    "language_info": {
      "name": "python"
    }
  },
  "cells": [
    {
      "cell_type": "markdown",
      "metadata": {
        "id": "view-in-github",
        "colab_type": "text"
      },
      "source": [
        "<a href=\"https://colab.research.google.com/github/Shylu2005/AIML/blob/main/assignment%203%20part%203.ipynb\" target=\"_parent\"><img src=\"https://colab.research.google.com/assets/colab-badge.svg\" alt=\"Open In Colab\"/></a>"
      ]
    },
    {
      "cell_type": "code",
      "execution_count": null,
      "metadata": {
        "id": "EPw-CyBRdxWB"
      },
      "outputs": [],
      "source": [
        "class TicTacToe(Game):\n",
        "    \"\"\"Play TicTacToe on an `height` by `width` board, needing `k` in a row to win.\n",
        "    'X' plays first against 'O'.\"\"\"\n",
        "\n",
        "    def __init__(self, height=3, width=3, k=3):\n",
        "        self.k = k # k in a row\n",
        "        self.squares = {(x, y) for x in range(width) for y in range(height)}\n",
        "        self.initial = Board(height=height, width=width, to_move='X', utility=0)\n",
        "\n",
        "    def actions(self, board):\n",
        "        \"\"\"Legal moves are any square not yet taken.\"\"\"\n",
        "        return self.squares - set(board)\n",
        "\n",
        "    def result(self, board, square):\n",
        "        \"\"\"Place a marker for current player on square.\"\"\"\n",
        "        player = board.to_move\n",
        "        board = board.new({square: player}, to_move=('O' if player == 'X' else 'X'))\n",
        "        win = k_in_row(board, player, square, self.k)\n",
        "        board.utility = (0 if not win else +1 if player == 'X' else -1)\n",
        "        return board\n",
        "\n",
        "    def utility(self, board, player):\n",
        "        \"\"\"Return the value to player; 1 for win, -1 for loss, 0 otherwise.\"\"\"\n",
        "        return board.utility if player == 'X' else -board.utility\n",
        "\n",
        "    def is_terminal(self, board):\n",
        "        \"\"\"A board is a terminal state if it is won or there are no empty squares.\"\"\"\n",
        "        return board.utility != 0 or len(self.squares) == len(board)\n",
        "\n",
        "    def display(self, board): print(board)\n",
        "\n",
        "\n",
        "def k_in_row(board, player, square, k):\n",
        "    \"\"\"True if player has k pieces in a line through square.\"\"\"\n",
        "    def in_row(x, y, dx, dy): return 0 if board[x, y] != player else 1 + in_row(x + dx, y + dy, dx, dy)\n",
        "    return any(in_row(*square, dx, dy) + in_row(*square, -dx, -dy)-1>=k\n",
        "               for (dx, dy) in ((0, 1), (1, 0), (1, 1), (1, -1)))"
      ]
    },
    {
      "cell_type": "code",
      "source": [
        "class Board(defaultdict):\n",
        "    \"\"\"A board has the player to move, a cached utility value,\n",
        "    and a dict of {(x, y): player} entries, where player is 'X' or 'O'.\"\"\"\n",
        "    empty = '.'\n",
        "    off = '#'\n",
        "\n",
        "    def __init__(self, width=8, height=8, to_move=None, **kwds):\n",
        "        self.__dict__.update(width=width, height=height, to_move=to_move, **kwds)\n",
        "\n",
        "    def new(self, changes: dict, **kwds) -> 'Board':\n",
        "        \"Given a dict of {(x, y): contents} changes, return a new Board with the changes.\"\n",
        "        board = Board(width=self.width, height=self.height, **kwds)\n",
        "        board.update(self)\n",
        "        board.update(changes)\n",
        "        return board\n",
        "\n",
        "    def __missing__(self, loc):\n",
        "        x, y = loc\n",
        "        if 0 <= x < self.width and 0 <= y < self.height:\n",
        "            return self.empty\n",
        "        else:\n",
        "            return self.off\n",
        "\n",
        "    def __hash__(self):\n",
        "        return hash(tuple(sorted(self.items()))) + hash(self.to_move)\n",
        "\n",
        "    def __repr__(self):\n",
        "        def row(y): return ' '.join(self[x, y] for x in range(self.width))\n",
        "        return '\\n'.join(map(row, range(self.height))) +  '\\n'"
      ],
      "metadata": {
        "id": "ST-cjvbVd4Da"
      },
      "execution_count": null,
      "outputs": []
    },
    {
      "cell_type": "code",
      "source": [
        "def random_player(game, state): return random.choice(list(game.actions(state)))\n",
        "\n",
        "def player(search_algorithm):\n",
        "    \"\"\"A game player who uses the specified search algorithm\"\"\"\n",
        "    return lambda game, state: search_algorithm(game, state)[1]"
      ],
      "metadata": {
        "id": "-2Mzudnmd-oz"
      },
      "execution_count": null,
      "outputs": []
    },
    {
      "cell_type": "code",
      "source": [
        "Evaluate the Game Strategy using TicTokToe\n",
        "play_game(TicTacToe(), dict(X=random_player, O=player(alphabeta_search)), verbose=True).utility\n",
        "Player X move: (1, 0)\n",
        ". X .\n",
        ". . .\n",
        ". . .\n",
        "\n",
        "Player O move: (1, 2)\n",
        ". X .\n",
        ". . .\n",
        ". O .\n",
        "\n",
        "Player X move: (1, 1)\n",
        ". X .\n",
        ". X .\n",
        ". O .\n",
        "\n",
        "Player O move: (0, 0)\n",
        "O X .\n",
        ". X .\n",
        ". O .\n",
        "\n",
        "Player X move: (0, 1)\n",
        "O X .\n",
        "X X .\n",
        ". O .\n",
        "\n",
        "Player O move: (2, 1)\n",
        "O X .\n",
        "X X O\n",
        ". O .\n",
        "\n",
        "Player X move: (0, 2)\n",
        "O X .\n",
        "X X O\n",
        "X O .\n",
        "\n",
        "Player O move: (2, 0)\n",
        "O X O\n",
        "X X O\n",
        "X O .\n",
        "Player X move: (2, 2)\n",
        "O X O\n",
        "X X O\n",
        "X O X\n",
        "\n",
        "0"
      ],
      "metadata": {
        "id": "cNM30A16eOFg"
      },
      "execution_count": null,
      "outputs": []
    },
    {
      "cell_type": "code",
      "source": [
        "play_game(TicTacToe(), dict(X=player(alphabeta_search), O=player(minimax_search)), verbose=True).utility\n",
        "Player X move: (0, 1)\n",
        ". . .\n",
        "X . .\n",
        ". . .\n",
        "\n",
        "Player O move: (2, 1)\n",
        ". . .\n",
        "X . O\n",
        ". . .\n",
        "\n",
        "Player X move: (1, 2)\n",
        ". . .\n",
        "X . O\n",
        ". X .\n",
        "\n",
        "Player O move: (0, 0)\n",
        "O . .\n",
        "X . O\n",
        ". X .\n",
        "\n",
        "Player X move: (1, 1)\n",
        "O . .\n",
        "X X O\n",
        ". X .\n",
        "\n",
        "Player O move: (1, 0)\n",
        "O O .\n",
        "X X O\n",
        ". X .\n",
        "\n",
        "Player X move: (2, 0)\n",
        "O O X\n",
        "X X O\n",
        ". X .\n",
        "\n",
        "Player O move: (0, 2)\n",
        "O O X\n",
        "X X O\n",
        "O X .\n",
        "Player X move: (2, 2)\n",
        "O O X\n",
        "X X O\n",
        "O X X\n",
        "\n"
      ],
      "metadata": {
        "colab": {
          "base_uri": "https://localhost:8080/",
          "height": 110
        },
        "id": "Ukx-O1j4eYul",
        "outputId": "f6aad4cb-595d-44b1-ee64-5e923f798696"
      },
      "execution_count": 1,
      "outputs": [
        {
          "output_type": "error",
          "ename": "SyntaxError",
          "evalue": "invalid syntax (<ipython-input-1-0ec32e349176>, line 2)",
          "traceback": [
            "\u001b[0;36m  File \u001b[0;32m\"<ipython-input-1-0ec32e349176>\"\u001b[0;36m, line \u001b[0;32m2\u001b[0m\n\u001b[0;31m    Player X move: (0, 1)\u001b[0m\n\u001b[0m           ^\u001b[0m\n\u001b[0;31mSyntaxError\u001b[0m\u001b[0;31m:\u001b[0m invalid syntax\n"
          ]
        }
      ]
    }
  ]
}