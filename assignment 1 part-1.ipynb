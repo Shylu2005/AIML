{
  "nbformat": 4,
  "nbformat_minor": 0,
  "metadata": {
    "colab": {
      "provenance": [],
      "authorship_tag": "ABX9TyP4eFPZFkaBUSiHRKn41X4P",
      "include_colab_link": true
    },
    "kernelspec": {
      "name": "python3",
      "display_name": "Python 3"
    },
    "language_info": {
      "name": "python"
    }
  },
  "cells": [
    {
      "cell_type": "markdown",
      "metadata": {
        "id": "view-in-github",
        "colab_type": "text"
      },
      "source": [
        "<a href=\"https://colab.research.google.com/github/Shylu2005/AIML/blob/main/assignment%201%20part-1.ipynb\" target=\"_parent\"><img src=\"https://colab.research.google.com/assets/colab-badge.svg\" alt=\"Open In Colab\"/></a>"
      ]
    },
    {
      "cell_type": "code",
      "execution_count": null,
      "metadata": {
        "id": "mD8RaO_-XwYX"
      },
      "outputs": [],
      "source": [
        "#chan\n",
        "# 1st Question \"List\"\n",
        "mylist = [\"apple\", \"banana\", \"cherry\"]\n",
        "print(mylist)\n",
        "\n",
        "\n",
        "#chan\n",
        "# 2st Question \"Arrays\"\n",
        "import numpy\n",
        "arr_x=numpy.array([1,2,3,4])\n",
        "print(arr_x)\n",
        "\n",
        "#3rd Question Type\n",
        "print(type(mylist))\n",
        "print(type(arr_x))\n",
        "\n",
        "# 4th Question\n",
        "import numpy\n",
        "sine=numpy.sin(numpy.pi/2)\n",
        "log=numpy.log(10)\n",
        "log2=numpy.log2(10)\n",
        "exp=numpy.exp([4,0])\n",
        "print(sine)\n",
        "print(log)\n",
        "print(log2)\n",
        "print(exp)\n",
        "\n",
        "# 5th Question\n",
        "num_add_1=numpy.array([1,2,3])\n",
        "num_add_2=numpy.array([1,2,3])\n",
        "print(numpy.add(num_add_1,num_add_2))"
      ]
    }
  ]
}