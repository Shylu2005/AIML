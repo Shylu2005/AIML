{
  "nbformat": 4,
  "nbformat_minor": 0,
  "metadata": {
    "colab": {
      "provenance": [],
      "authorship_tag": "ABX9TyOnnLmvOd0JFo3av1VyBVEu",
      "include_colab_link": true
    },
    "kernelspec": {
      "name": "python3",
      "display_name": "Python 3"
    },
    "language_info": {
      "name": "python"
    }
  },
  "cells": [
    {
      "cell_type": "markdown",
      "metadata": {
        "id": "view-in-github",
        "colab_type": "text"
      },
      "source": [
        "<a href=\"https://colab.research.google.com/github/Shylu2005/AIML/blob/main/diabetes.csv(2303a51876)(ADM).ipynb\" target=\"_parent\"><img src=\"https://colab.research.google.com/assets/colab-badge.svg\" alt=\"Open In Colab\"/></a>"
      ]
    },
    {
      "cell_type": "code",
      "execution_count": 14,
      "metadata": {
        "colab": {
          "base_uri": "https://localhost:8080/"
        },
        "id": "eeY_W4aEb5C5",
        "outputId": "27b81bb6-1201-47fe-cb02-a917cd480b45"
      },
      "outputs": [
        {
          "output_type": "stream",
          "name": "stdout",
          "text": [
            "     Pregnancies  Glucose  BloodPressure  SkinThickness  Insulin   BMI  \\\n",
            "0              6      148             72             35        0  33.6   \n",
            "1              1       85             66             29        0  26.6   \n",
            "2              8      183             64              0        0  23.3   \n",
            "3              1       89             66             23       94  28.1   \n",
            "4              0      137             40             35      168  43.1   \n",
            "..           ...      ...            ...            ...      ...   ...   \n",
            "763           10      101             76             48      180  32.9   \n",
            "764            2      122             70             27        0  36.8   \n",
            "765            5      121             72             23      112  26.2   \n",
            "766            1      126             60              0        0  30.1   \n",
            "767            1       93             70             31        0  30.4   \n",
            "\n",
            "     DiabetesPedigreeFunction  Age  Outcome  \n",
            "0                       0.627   50        1  \n",
            "1                       0.351   31        0  \n",
            "2                       0.672   32        1  \n",
            "3                       0.167   21        0  \n",
            "4                       2.288   33        1  \n",
            "..                        ...  ...      ...  \n",
            "763                     0.171   63        0  \n",
            "764                     0.340   27        0  \n",
            "765                     0.245   30        0  \n",
            "766                     0.349   47        1  \n",
            "767                     0.315   23        0  \n",
            "\n",
            "[768 rows x 9 columns]\n"
          ]
        }
      ],
      "source": [
        "#Load a dataset (CSV) using Pandas\n",
        "import pandas as pd\n",
        "df = pd.read_csv(\"/content/diabetes.csv\")\n",
        "print(df)"
      ]
    },
    {
      "cell_type": "code",
      "source": [
        "#Handle missing values (mean imputation for zeros in specific columns)\n",
        "columns_to_impute = [\"Glucose\", \"BloodPressure\", \"SkinThickness\", \"Insulin\", \"BMI\"]\n",
        "for col in columns_to_impute:\n",
        "    df[col] = df[col].replace(0, df[col].mean())\n",
        "print(df.head())"
      ],
      "metadata": {
        "colab": {
          "base_uri": "https://localhost:8080/"
        },
        "id": "G6zk3quBgYGM",
        "outputId": "48c4b099-09a3-4407-ade7-aab04f6c7d8b"
      },
      "execution_count": 16,
      "outputs": [
        {
          "output_type": "stream",
          "name": "stdout",
          "text": [
            "   Pregnancies  Glucose  BloodPressure  SkinThickness     Insulin   BMI  \\\n",
            "0            6    148.0           72.0      35.000000   79.799479  33.6   \n",
            "1            1     85.0           66.0      29.000000   79.799479  26.6   \n",
            "2            8    183.0           64.0      20.536458   79.799479  23.3   \n",
            "3            1     89.0           66.0      23.000000   94.000000  28.1   \n",
            "4            0    137.0           40.0      35.000000  168.000000  43.1   \n",
            "\n",
            "   DiabetesPedigreeFunction  Age  Outcome  \n",
            "0                     0.627   50        1  \n",
            "1                     0.351   31        0  \n",
            "2                     0.672   32        1  \n",
            "3                     0.167   21        0  \n",
            "4                     2.288   33        1  \n"
          ]
        }
      ]
    },
    {
      "cell_type": "code",
      "source": [
        "#Perform feature scaling (Min-Max Normalization)\n",
        "from sklearn.preprocessing import MinMaxScaler\n",
        "scaler = MinMaxScaler()\n",
        "scaled_features = scaler.fit_transform(df.drop(columns=[\"Outcome\"]))\n",
        "df_scaled = pd.DataFrame(scaled_features, columns=df.columns[:-1])\n",
        "df_scaled[\"Outcome\"] = df[\"Outcome\"]\n",
        "print(df_scaled.head())"
      ],
      "metadata": {
        "colab": {
          "base_uri": "https://localhost:8080/"
        },
        "id": "wOHtbsvdglet",
        "outputId": "ae13f76d-fa0d-411c-ad28-0eab6ad41714"
      },
      "execution_count": 11,
      "outputs": [
        {
          "output_type": "stream",
          "name": "stdout",
          "text": [
            "   Pregnancies   Glucose  BloodPressure  SkinThickness   Insulin       BMI  \\\n",
            "0     0.352941  0.670968       0.489796       0.304348  0.079086  0.314928   \n",
            "1     0.058824  0.264516       0.428571       0.239130  0.079086  0.171779   \n",
            "2     0.470588  0.896774       0.408163       0.147135  0.079086  0.104294   \n",
            "3     0.058824  0.290323       0.428571       0.173913  0.096154  0.202454   \n",
            "4     0.000000  0.600000       0.163265       0.304348  0.185096  0.509202   \n",
            "\n",
            "   DiabetesPedigreeFunction       Age  Outcome  \n",
            "0                  0.234415  0.483333        1  \n",
            "1                  0.116567  0.166667        0  \n",
            "2                  0.253629  0.183333        1  \n",
            "3                  0.038002  0.000000        0  \n",
            "4                  0.943638  0.200000        1  \n"
          ]
        }
      ]
    }
  ]
}