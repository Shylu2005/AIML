{
  "nbformat": 4,
  "nbformat_minor": 0,
  "metadata": {
    "colab": {
      "provenance": [],
      "authorship_tag": "ABX9TyNDX3kMmiMpg6iqlLa1wt1u",
      "include_colab_link": true
    },
    "kernelspec": {
      "name": "python3",
      "display_name": "Python 3"
    },
    "language_info": {
      "name": "python"
    }
  },
  "cells": [
    {
      "cell_type": "markdown",
      "metadata": {
        "id": "view-in-github",
        "colab_type": "text"
      },
      "source": [
        "<a href=\"https://colab.research.google.com/github/Shylu2005/AIML/blob/main/AIML%20LAB%20EXAM(Q-18)(26-11-2024).ipynb\" target=\"_parent\"><img src=\"https://colab.research.google.com/assets/colab-badge.svg\" alt=\"Open In Colab\"/></a>"
      ]
    },
    {
      "cell_type": "code",
      "execution_count": 1,
      "metadata": {
        "id": "QobRa5g-k673"
      },
      "outputs": [],
      "source": [
        "#Prediction of Gender by Names given to the new born babies\n",
        "\n",
        "#Q1. Identify the Top-10 popular names given to babies\n",
        "\n",
        "#Q2. Find the Max and Min count of babies with similar names.\n",
        "\n",
        "#Q3.Name the gender which has acquired the most names among the babies\n",
        "\n",
        "#Q4.Identify the Top-5 probabilities of occurrence of Male and Gender By Nant Female babies\n",
        "\n",
        "#Q5.Name the Top-5 names with highest probabilities.\n",
        "\n",
        "#Q6. Apply either Classification or Clustering or Regression Model and evaluate the accuracy, error metrics of the model."
      ]
    },
    {
      "cell_type": "code",
      "source": [
        "import zipfile\n",
        "import os\n",
        "import pandas as pd\n",
        "\n",
        "# Define the paths\n",
        "zip_file_path = \"/content/gender+by+name.zip\"\n",
        "extraction_dir = \"/content/extracted_data\"\n",
        "\n",
        "# Extract the ZIP file\n",
        "with zipfile.ZipFile(zip_file_path, 'r') as zip_ref:\n",
        "    zip_ref.extractall(extraction_dir)\n",
        "\n",
        "# List extracted files\n",
        "extracted_files = os.listdir(extraction_dir)\n",
        "print(\"Extracted files:\", extracted_files)"
      ],
      "metadata": {
        "colab": {
          "base_uri": "https://localhost:8080/"
        },
        "id": "9tBxvmC3lMWa",
        "outputId": "b66a153c-8608-4e3a-d1db-b6bda6d8c867"
      },
      "execution_count": 2,
      "outputs": [
        {
          "output_type": "stream",
          "name": "stdout",
          "text": [
            "Extracted files: ['name_gender_dataset.csv']\n"
          ]
        }
      ]
    },
    {
      "cell_type": "code",
      "source": [
        "#Q1.Identify the Top-10 popular names given to babies.\n",
        "dataset_path = os.path.join(extraction_dir, \"name_gender_dataset.csv\")  # Update if name differs\n",
        "data = pd.read_csv(dataset_path)\n",
        "\n",
        "# Display the first few rows\n",
        "print(data.head())"
      ],
      "metadata": {
        "colab": {
          "base_uri": "https://localhost:8080/"
        },
        "id": "bENJ0su8lMTE",
        "outputId": "934e509c-8d04-4811-8c8a-048d4bf97216"
      },
      "execution_count": 3,
      "outputs": [
        {
          "output_type": "stream",
          "name": "stdout",
          "text": [
            "      Name Gender    Count  Probability\n",
            "0    James      M  5304407     0.014517\n",
            "1     John      M  5260831     0.014398\n",
            "2   Robert      M  4970386     0.013603\n",
            "3  Michael      M  4579950     0.012534\n",
            "4  William      M  4226608     0.011567\n"
          ]
        }
      ]
    },
    {
      "cell_type": "code",
      "source": [
        "#Q2. Find the Max and Min count of babies with similar names.\n",
        "# Maximum and minimum count of babies with similar names\n",
        "max_count = data[\"Count\"].max()\n",
        "min_count = data[\"Count\"].min()\n",
        "\n",
        "print(f\"Max count: {max_count}\")\n",
        "print(f\"Min count: {min_count}\")\n"
      ],
      "metadata": {
        "colab": {
          "base_uri": "https://localhost:8080/"
        },
        "id": "QIe0yRSjlMQl",
        "outputId": "6e2225ab-b96a-4579-9eda-fb8cbce3166a"
      },
      "execution_count": 4,
      "outputs": [
        {
          "output_type": "stream",
          "name": "stdout",
          "text": [
            "Max count: 5304407\n",
            "Min count: 1\n"
          ]
        }
      ]
    },
    {
      "cell_type": "code",
      "source": [
        "#Q3.Name the gender which has acquired the most names among the babies.\n",
        "# Count unique names per gender\n",
        "gender_name_counts = data.groupby(\"Gender\")[\"Name\"].nunique()\n",
        "most_names_gender = gender_name_counts.idxmax()\n",
        "\n",
        "print(f\"Gender with most names: {most_names_gender} ({gender_name_counts[most_names_gender]})\")\n",
        "\n"
      ],
      "metadata": {
        "colab": {
          "base_uri": "https://localhost:8080/"
        },
        "id": "Qg5JGhh0lMNO",
        "outputId": "890fa980-a71e-46f4-9d52-2065d042ca5a"
      },
      "execution_count": 5,
      "outputs": [
        {
          "output_type": "stream",
          "name": "stdout",
          "text": [
            "Gender with most names: F (89749)\n"
          ]
        }
      ]
    },
    {
      "cell_type": "code",
      "source": [
        "#Q4.Identify the Top-5 probabilities of occurrence of Male and Gender By Nant Female babies\n",
        "# Top 5 probabilities for each gender\n",
        "top_5_male = data[data[\"Gender\"] == \"M\"].nlargest(5, \"Probability\")[[\"Name\", \"Probability\"]]\n",
        "top_5_female = data[data[\"Gender\"] == \"F\"].nlargest(5, \"Probability\")[[\"Name\", \"Probability\"]]\n",
        "\n",
        "print(\"Top 5 Male Names by Probability:\")\n",
        "print(top_5_male)\n",
        "print(\"\\nTop 5 Female Names by Probability:\")\n",
        "print(top_5_female)"
      ],
      "metadata": {
        "colab": {
          "base_uri": "https://localhost:8080/"
        },
        "id": "-5tyOmgMlMK7",
        "outputId": "8153f27a-63fa-4e41-ec84-d9eb54769a72"
      },
      "execution_count": 6,
      "outputs": [
        {
          "output_type": "stream",
          "name": "stdout",
          "text": [
            "Top 5 Male Names by Probability:\n",
            "      Name  Probability\n",
            "0    James     0.014517\n",
            "1     John     0.014398\n",
            "2   Robert     0.013603\n",
            "3  Michael     0.012534\n",
            "4  William     0.011567\n",
            "\n",
            "Top 5 Female Names by Probability:\n",
            "         Name  Probability\n",
            "5        Mary     0.011411\n",
            "14  Elizabeth     0.004664\n",
            "15   Patricia     0.004401\n",
            "16   Jennifer     0.004336\n",
            "19      Linda     0.004052\n"
          ]
        }
      ]
    },
    {
      "cell_type": "code",
      "source": [
        "#Q5.Name the Top-5 names with highest probabilities.\n",
        "# Top 5 names overall by probability\n",
        "top_5_names = data.nlargest(5, \"Probability\")[[\"Name\", \"Probability\"]]\n",
        "print(\"Top 5 Names by Probability:\")\n",
        "print(top_5_names)"
      ],
      "metadata": {
        "colab": {
          "base_uri": "https://localhost:8080/"
        },
        "id": "DcnV7TfrlL-k",
        "outputId": "9a76bb10-5b30-4884-c55e-88d5bf072ff8"
      },
      "execution_count": 7,
      "outputs": [
        {
          "output_type": "stream",
          "name": "stdout",
          "text": [
            "Top 5 Names by Probability:\n",
            "      Name  Probability\n",
            "0    James     0.014517\n",
            "1     John     0.014398\n",
            "2   Robert     0.013603\n",
            "3  Michael     0.012534\n",
            "4  William     0.011567\n"
          ]
        }
      ]
    },
    {
      "cell_type": "code",
      "source": [
        "#Q6.Apply either Classification or Clustering or Regression Model and evaluate the accuracy, error metrics of the model.\n",
        "from sklearn.model_selection import train_test_split\n",
        "from sklearn.linear_model import LogisticRegression\n",
        "from sklearn.metrics import accuracy_score, classification_report\n",
        "\n",
        "# Extract features: first letter of name\n",
        "data[\"First_Letter\"] = data[\"Name\"].str[0].str.lower()\n",
        "\n",
        "# Encode first letters and gender\n",
        "X = pd.get_dummies(data[\"First_Letter\"])\n",
        "y = data[\"Gender\"].map({\"M\": 0, \"F\": 1})  # Binary encoding: Male=0, Female=1\n",
        "\n",
        "# Train-test split\n",
        "X_train, X_test, y_train, y_test = train_test_split(X, y, test_size=0.3, random_state=42)\n",
        "\n",
        "# Train logistic regression model\n",
        "model = LogisticRegression()\n",
        "model.fit(X_train, y_train)\n",
        "\n",
        "# Predict and evaluate\n",
        "y_pred = model.predict(X_test)\n",
        "accuracy = accuracy_score(y_test, y_pred)\n",
        "print(f\"Accuracy: {accuracy:.2f}\")\n",
        "print(\"\\nClassification Report:\")\n",
        "print(classification_report(y_test, y_pred))\n"
      ],
      "metadata": {
        "colab": {
          "base_uri": "https://localhost:8080/"
        },
        "id": "RrCnUYbalbmG",
        "outputId": "d61cb032-05fd-4203-af39-85981c5cc02d"
      },
      "execution_count": 8,
      "outputs": [
        {
          "output_type": "stream",
          "name": "stdout",
          "text": [
            "Accuracy: 0.61\n",
            "\n",
            "Classification Report:\n",
            "              precision    recall  f1-score   support\n",
            "\n",
            "           0       0.50      0.02      0.04     17219\n",
            "           1       0.61      0.99      0.76     26962\n",
            "\n",
            "    accuracy                           0.61     44181\n",
            "   macro avg       0.56      0.50      0.40     44181\n",
            "weighted avg       0.57      0.61      0.48     44181\n",
            "\n"
          ]
        }
      ]
    }
  ]
}